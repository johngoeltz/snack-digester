{
  "nbformat": 4,
  "nbformat_minor": 0,
  "metadata": {
    "colab": {
      "name": "snack_food_digester.ipynb",
      "provenance": [],
      "collapsed_sections": []
    },
    "kernelspec": {
      "name": "python3",
      "display_name": "Python 3"
    }
  },
  "cells": [
    {
      "cell_type": "code",
      "metadata": {
        "id": "bXO3r6aWI6Lk",
        "colab": {
          "base_uri": "https://localhost:8080/"
        },
        "outputId": "503b7bbf-79ae-4796-b1b0-254acb3cd1ad"
      },
      "source": [
        "# Click the play button at the upper left of this block.  \n",
        "# It should connect to a \"runtime\" at Google's servers and then run the code in this block.\n",
        "# If that worked, scroll down and continue on to the next block, below this one.\n",
        "# If it didn't work (you'll see red lines and text), try to troubleshoot it, and then seek help from your instructor.\n",
        "\n",
        "# Imports data and time management packages.\n",
        "# Unfortunately, the time management package does not help in the rest of life :-|\n",
        "import csv\n",
        "import pandas as pd\n",
        "import time\n",
        "import re\n",
        "\n",
        "# Installs and imports a package called CIRpy.\n",
        "# This \"resolves\" chemicals with help from NIH.\n",
        "# Basically, if an input is a known chemical name, their servers will recognize it and give you\n",
        "# a machine readable \"structure\" called a \"SMILES string\".\n",
        "!pip install cirpy\n",
        "import cirpy"
      ],
      "execution_count": null,
      "outputs": [
        {
          "output_type": "stream",
          "text": [
            "Collecting cirpy\n",
            "  Downloading https://files.pythonhosted.org/packages/fc/bc/3d7cb58ba6ffcde0d18d3f0e72a22caffe7741485bd1d286fd10d6a9a397/CIRpy-1.0.2.tar.gz\n",
            "Building wheels for collected packages: cirpy\n",
            "  Building wheel for cirpy (setup.py) ... \u001b[?25l\u001b[?25hdone\n",
            "  Created wheel for cirpy: filename=CIRpy-1.0.2-cp37-none-any.whl size=7269 sha256=f61d83afb10158e9ac1737b56e585019038e0596164b1d380d6e4c14cf85a963\n",
            "  Stored in directory: /root/.cache/pip/wheels/90/31/65/5c9e5a9c65c11466a31aa8360a146cb92ee3abbd628f2801f7\n",
            "Successfully built cirpy\n",
            "Installing collected packages: cirpy\n",
            "Successfully installed cirpy-1.0.2\n"
          ],
          "name": "stdout"
        }
      ]
    },
    {
      "cell_type": "code",
      "metadata": {
        "colab": {
          "base_uri": "https://localhost:8080/"
        },
        "id": "LrC3ei53JLl4",
        "outputId": "933b13f6-a16b-48c7-db3e-4830ebd43a72"
      },
      "source": [
        "# Find a highly processed food or drink or a household product \n",
        "# like soap or shampoo.\n",
        "# Type the name at right where it says \"product_name\":\n",
        "\n",
        "# If you can, find a list of the ingredients online, and paste your\n",
        "# ingredients in the field at right where it just says \"Corn Syrup\"\n",
        "# to start with.\n",
        "# You may need to delete any quotation marks within the list of \n",
        "# ingredients for it to work.\n",
        "\n",
        "# Once you've pasted them in, click the play button at left.\n",
        "\n",
        "product_name = \"fruit roll ups\" #@param {type:\"string\"}\n",
        "product_name = product_name.replace(' ', '_')\n",
        "\n",
        "ingredients = \"Corn Syrup\" #@param {type:\"string\"}\n",
        "\n",
        "# These next lines of code clean up some common punctuation and \n",
        "# words in ingredients lists that prevent software from\n",
        "# recognizing chemical names.\n",
        "# If these fail, your instructor can find help for you.\n",
        "# In the worst case scenario, you can go back and type in all \n",
        "# your ingredients with commas and no other punctuation \n",
        "# like \"enriched corn meal, corn meal, ferrous sulfate...\"\n",
        "# No worries.\n",
        "\n",
        "\n",
        "ingredients = ingredients.replace(' [', ', ').replace('and/or ', '').replace('and', '').replace(':', ',')\n",
        "ingredients = ingredients.replace(']', '').replace(' (', ', ').replace(')', '').replace('.', ',')\n",
        "\n",
        "print(product_name)\n",
        "print(ingredients)"
      ],
      "execution_count": null,
      "outputs": [
        {
          "output_type": "stream",
          "text": [
            "fruit_roll_ups\n",
            "Corn Syrup, Dried Corn Syrup, Sugar, Pear Puree Concentrate, Palm Oil, Contains 2% Or Less Of, Citric Acid, Sodium Citrate, Fruit Pectin, Monoglycerides, Malic Acid, Vitamin C, ascorbic Acid, Acetylated Monoglycerides, Natural Flavor, Color, red 40, Yellows 5 & 6, Blue 1\n"
          ],
          "name": "stdout"
        }
      ]
    },
    {
      "cell_type": "code",
      "metadata": {
        "id": "nDvqreFrKlCN",
        "colab": {
          "base_uri": "https://localhost:8080/"
        },
        "outputId": "6ad7b63d-fe20-4d15-8e50-a383d697f5fd"
      },
      "source": [
        "# The computer interprets what you input for \"ingredients\" as one long sentence.\n",
        "# This code chops it up into a list of individual words by starting a new word \n",
        "# every time it sees a comma followed by a space.\n",
        "\n",
        "ingredients_list = ingredients.split(', ')\n",
        "\n",
        "print(ingredients_list)"
      ],
      "execution_count": null,
      "outputs": [
        {
          "output_type": "stream",
          "text": [
            "['Corn Syrup', 'Dried Corn Syrup', 'Sugar', 'Pear Puree Concentrate', 'Palm Oil', 'Contains 2% Or Less Of', 'Citric Acid', 'Sodium Citrate', 'Fruit Pectin', 'Monoglycerides', 'Malic Acid', 'Vitamin C', 'ascorbic Acid', 'Acetylated Monoglycerides', 'Natural Flavor', 'Color', 'red 40', 'Yellows 5 & 6', 'Blue 1']\n"
          ],
          "name": "stdout"
        }
      ]
    },
    {
      "cell_type": "code",
      "metadata": {
        "id": "5xT1ZukESr65",
        "colab": {
          "base_uri": "https://localhost:8080/"
        },
        "outputId": "d8cbfd00-9499-46b9-df0c-dea5c3f58280"
      },
      "source": [
        "# This code asks NIH's servers to resolve each ingredient in your list, basically asking if it's a known chemical.\n",
        "# The time.sleep() line pauses between each request so we don't freak out NIH's servers.\n",
        "# (Yes, I did that by accident while testing this code.  It's better this way.)\n",
        "\n",
        "# If the word or phrase is recognized as a chemical, the computer will return a SMILES string.\n",
        "# These look weird to us, like 'OC(=O)c1cccnc1', but a computer is able to decode them into a chemical structure.\n",
        "\n",
        "# If the word isn't a recognizable chemical, NIH will return the word \"None\".\n",
        "# If you have some \"None\" values and some SMILES strings, that's okay, just keep going!\n",
        "\n",
        "# If you only have \"None\" values and no funky looking SMILES strings like 'OC(=O)c1cccnc1', try starting over with a \n",
        "# different list of ingredients from a more highly processed food, then if it still gives all \"None\", ask for help.\n",
        "\n",
        "smiles_list = []\n",
        "\n",
        "for ingredient in ingredients_list:\n",
        "  try:\n",
        "    smiles_list.append(cirpy.resolve(ingredient, 'smiles'))\n",
        "    print(ingredient, smiles_list[-1])\n",
        "    time.sleep(1.1)\n",
        "    \n",
        "  except:\n",
        "    pass\n",
        "\n",
        "print('\\n')\n",
        "print(smiles_list)"
      ],
      "execution_count": null,
      "outputs": [
        {
          "output_type": "stream",
          "text": [
            "Corn Syrup None\n",
            "Dried Corn Syrup None\n",
            "Sugar OC[C@H]1O[C@H](O[C@]2(CO)O[C@H](CO)[C@@H](O)[C@@H]2O)[C@H](O)[C@@H](O)[C@@H]1O\n",
            "Pear Puree Concentrate None\n",
            "Palm Oil None\n",
            "Contains 2% Or Less Of None\n",
            "Citric Acid OC(=O)CC(O)(CC(O)=O)C(O)=O\n",
            "Sodium Citrate [Na+].[Na+].[Na+].OC(CC([O-])=O)(CC([O-])=O)C([O-])=O\n",
            "Fruit Pectin None\n",
            "Monoglycerides None\n",
            "Malic Acid OC(CC(O)=O)C(O)=O\n",
            "Vitamin C OC[C@H](O)[C@H]1OC(=O)C(=C1O)O\n",
            "ascorbic Acid OCC(O)C1OC(=C(O)C1=O)O\n",
            "Acetylated Monoglycerides None\n",
            "Natural Flavor None\n",
            "Color None\n",
            "red 40 None\n",
            "Yellows 5 & 6 None\n",
            "Blue 1 None\n",
            "\n",
            "\n",
            "[None, None, 'OC[C@H]1O[C@H](O[C@]2(CO)O[C@H](CO)[C@@H](O)[C@@H]2O)[C@H](O)[C@@H](O)[C@@H]1O', None, None, None, 'OC(=O)CC(O)(CC(O)=O)C(O)=O', '[Na+].[Na+].[Na+].OC(CC([O-])=O)(CC([O-])=O)C([O-])=O', None, None, 'OC(CC(O)=O)C(O)=O', 'OC[C@H](O)[C@H]1OC(=O)C(=C1O)O', 'OCC(O)C1OC(=C(O)C1=O)O', None, None, None, None, None, None]\n"
          ],
          "name": "stdout"
        }
      ]
    },
    {
      "cell_type": "code",
      "metadata": {
        "colab": {
          "base_uri": "https://localhost:8080/"
        },
        "id": "xgCZqkhhKY_T",
        "outputId": "7abd8f46-0254-440a-a064-847f838788e1"
      },
      "source": [
        "# This code organizes your original list and the new list of chemical SMILES results into a single table, \n",
        "# or DataFrame called \"df\".\n",
        "\n",
        "# The \"dropna()\" line says \"you know what, if it wasn't a chemical and has \"None\" for a structure, \n",
        "# I don't want it in my table\".\n",
        "\n",
        "# The drop_duplicates() line says \"look, I know they sneak 'sugar' in there multiple times,\n",
        "# sometimes with different names for it, but I only need it in my table once.\"\n",
        "# Cleans up nicely, doesn't it?\n",
        "\n",
        "df = pd.DataFrame(zip(ingredients_list, smiles_list))\n",
        "print(df.head())\n",
        "df.dropna(inplace=True)\n",
        "df.rename(columns={0:'Ingredient', 1:'SMILES String'}, inplace=True)\n",
        "df.drop_duplicates(subset=('SMILES String'), inplace=True)\n",
        "print('\\n')\n",
        "print(df.head())"
      ],
      "execution_count": null,
      "outputs": [
        {
          "output_type": "stream",
          "text": [
            "                        0                                                  1\n",
            "0              Corn Syrup                                               None\n",
            "1        Dried Corn Syrup                                               None\n",
            "2                   Sugar  OC[C@H]1O[C@H](O[C@]2(CO)O[C@H](CO)[C@@H](O)[C...\n",
            "3  Pear Puree Concentrate                                               None\n",
            "4                Palm Oil                                               None\n",
            "\n",
            "\n",
            "        Ingredient                                      SMILES String\n",
            "2            Sugar  OC[C@H]1O[C@H](O[C@]2(CO)O[C@H](CO)[C@@H](O)[C...\n",
            "6      Citric Acid                         OC(=O)CC(O)(CC(O)=O)C(O)=O\n",
            "7   Sodium Citrate  [Na+].[Na+].[Na+].OC(CC([O-])=O)(CC([O-])=O)C(...\n",
            "10      Malic Acid                                  OC(CC(O)=O)C(O)=O\n",
            "11       Vitamin C                     OC[C@H](O)[C@H]1OC(=O)C(=C1O)O\n"
          ],
          "name": "stdout"
        }
      ]
    },
    {
      "cell_type": "code",
      "metadata": {
        "id": "QWtZzzl9LBCK"
      },
      "source": [
        "# This code saves your data as a \"csv\", or \"comma-separated-value\" file in the file browser\n",
        "# at the left of this window.\n",
        "\n",
        "df.to_csv('{}_ingredients_names_and_smiles.csv'.format(product_name))"
      ],
      "execution_count": null,
      "outputs": []
    },
    {
      "cell_type": "code",
      "metadata": {
        "id": "b3RGNd9IFaqD"
      },
      "source": [
        "# Click the folder at the left of your screen, and (once it refreshes) you should\n",
        "# see your file.  If you don't see it, click the folder icon to minimize the tab, then\n",
        "# click it again to reopen it.\n",
        "\n",
        "# Right-click the file to download it to your computer, then drag it from your\n",
        "# downloads folder to somewhere you want to keep it.\n",
        "# It should now open with Excel, and you can move on to the next steps..."
      ],
      "execution_count": null,
      "outputs": []
    }
  ]
}